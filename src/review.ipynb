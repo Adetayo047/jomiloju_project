{
 "cells": [
  {
   "cell_type": "code",
   "execution_count": 1,
   "metadata": {},
   "outputs": [],
   "source": [
    "import os\n",
    "import pandas as pd\n",
    "\n",
    "reviews_file = 'src/reviews.csv'\n",
    "if os.path.exists(reviews_file):\n",
    "    reviews_df = pd.read_csv(reviews_file)\n",
    "else:\n",
    "    reviews_df = pd.DataFrame(columns=[\"user_id\", \"restaurant_name\", \"review_text\", \"rating\"])\n",
    "    "
   ]
  },
  {
   "cell_type": "code",
   "execution_count": 2,
   "metadata": {},
   "outputs": [
    {
     "data": {
      "text/html": [
       "<div>\n",
       "<style scoped>\n",
       "    .dataframe tbody tr th:only-of-type {\n",
       "        vertical-align: middle;\n",
       "    }\n",
       "\n",
       "    .dataframe tbody tr th {\n",
       "        vertical-align: top;\n",
       "    }\n",
       "\n",
       "    .dataframe thead th {\n",
       "        text-align: right;\n",
       "    }\n",
       "</style>\n",
       "<table border=\"1\" class=\"dataframe\">\n",
       "  <thead>\n",
       "    <tr style=\"text-align: right;\">\n",
       "      <th></th>\n",
       "      <th>user_id</th>\n",
       "      <th>restaurant_name</th>\n",
       "      <th>review_text</th>\n",
       "      <th>rating</th>\n",
       "    </tr>\n",
       "  </thead>\n",
       "  <tbody>\n",
       "  </tbody>\n",
       "</table>\n",
       "</div>"
      ],
      "text/plain": [
       "Empty DataFrame\n",
       "Columns: [user_id, restaurant_name, review_text, rating]\n",
       "Index: []"
      ]
     },
     "execution_count": 2,
     "metadata": {},
     "output_type": "execute_result"
    }
   ],
   "source": [
    "reviews_df"
   ]
  },
  {
   "cell_type": "code",
   "execution_count": 3,
   "metadata": {},
   "outputs": [],
   "source": [
    "review_data = {\n",
    "            \"user_id\": 'user_id',\n",
    "            \"restaurant_name\": 'selected_restaurant',\n",
    "            \"review_text\": 'review_text',\n",
    "            \"rating\": 'rating',\n",
    "    }"
   ]
  },
  {
   "cell_type": "code",
   "execution_count": 4,
   "metadata": {},
   "outputs": [
    {
     "data": {
      "text/plain": [
       "{'user_id': 'user_id',\n",
       " 'restaurant_name': 'selected_restaurant',\n",
       " 'review_text': 'review_text',\n",
       " 'rating': 'rating'}"
      ]
     },
     "execution_count": 4,
     "metadata": {},
     "output_type": "execute_result"
    }
   ],
   "source": [
    "review_data"
   ]
  },
  {
   "cell_type": "code",
   "execution_count": 4,
   "metadata": {},
   "outputs": [
    {
     "ename": "AttributeError",
     "evalue": "'DataFrame' object has no attribute 'append'",
     "output_type": "error",
     "traceback": [
      "\u001b[1;31m---------------------------------------------------------------------------\u001b[0m",
      "\u001b[1;31mAttributeError\u001b[0m                            Traceback (most recent call last)",
      "\u001b[1;32m~\\AppData\\Local\\Temp\\ipykernel_21072\\2520903424.py\u001b[0m in \u001b[0;36m?\u001b[1;34m()\u001b[0m\n\u001b[0;32m      1\u001b[0m \u001b[1;31m# Append the new review to the dataframe\u001b[0m\u001b[1;33m\u001b[0m\u001b[1;33m\u001b[0m\u001b[0m\n\u001b[1;32m----> 2\u001b[1;33m \u001b[0mreviews_df\u001b[0m \u001b[1;33m=\u001b[0m \u001b[0mreviews_df\u001b[0m\u001b[1;33m.\u001b[0m\u001b[0mappend\u001b[0m\u001b[1;33m(\u001b[0m\u001b[0mreview_data\u001b[0m\u001b[1;33m,\u001b[0m \u001b[0mignore_index\u001b[0m\u001b[1;33m=\u001b[0m\u001b[1;32mTrue\u001b[0m\u001b[1;33m)\u001b[0m\u001b[1;33m\u001b[0m\u001b[1;33m\u001b[0m\u001b[0m\n\u001b[0m",
      "\u001b[1;32mc:\\Users\\philip\\anaconda3\\envs\\babenv\\lib\\site-packages\\pandas\\core\\generic.py\u001b[0m in \u001b[0;36m?\u001b[1;34m(self, name)\u001b[0m\n\u001b[0;32m   6295\u001b[0m             \u001b[1;32mand\u001b[0m \u001b[0mname\u001b[0m \u001b[1;32mnot\u001b[0m \u001b[1;32min\u001b[0m \u001b[0mself\u001b[0m\u001b[1;33m.\u001b[0m\u001b[0m_accessors\u001b[0m\u001b[1;33m\u001b[0m\u001b[1;33m\u001b[0m\u001b[0m\n\u001b[0;32m   6296\u001b[0m             \u001b[1;32mand\u001b[0m \u001b[0mself\u001b[0m\u001b[1;33m.\u001b[0m\u001b[0m_info_axis\u001b[0m\u001b[1;33m.\u001b[0m\u001b[0m_can_hold_identifiers_and_holds_name\u001b[0m\u001b[1;33m(\u001b[0m\u001b[0mname\u001b[0m\u001b[1;33m)\u001b[0m\u001b[1;33m\u001b[0m\u001b[1;33m\u001b[0m\u001b[0m\n\u001b[0;32m   6297\u001b[0m         ):\n\u001b[0;32m   6298\u001b[0m             \u001b[1;32mreturn\u001b[0m \u001b[0mself\u001b[0m\u001b[1;33m[\u001b[0m\u001b[0mname\u001b[0m\u001b[1;33m]\u001b[0m\u001b[1;33m\u001b[0m\u001b[1;33m\u001b[0m\u001b[0m\n\u001b[1;32m-> 6299\u001b[1;33m         \u001b[1;32mreturn\u001b[0m \u001b[0mobject\u001b[0m\u001b[1;33m.\u001b[0m\u001b[0m__getattribute__\u001b[0m\u001b[1;33m(\u001b[0m\u001b[0mself\u001b[0m\u001b[1;33m,\u001b[0m \u001b[0mname\u001b[0m\u001b[1;33m)\u001b[0m\u001b[1;33m\u001b[0m\u001b[1;33m\u001b[0m\u001b[0m\n\u001b[0m",
      "\u001b[1;31mAttributeError\u001b[0m: 'DataFrame' object has no attribute 'append'"
     ]
    }
   ],
   "source": [
    "        # Append the new review to the dataframe\n",
    "reviews_df = reviews_df.append(review_data, ignore_index=True)"
   ]
  },
  {
   "cell_type": "code",
   "execution_count": 13,
   "metadata": {},
   "outputs": [],
   "source": [
    "from typing import List\n",
    "import pickle\n",
    "from collections import defaultdict\n",
    "import random\n",
    "import os\n",
    "\n",
    "import requests\n",
    "import joblib\n",
    "import pandas as pd\n",
    "import numpy as np\n",
    "from PIL import Image"
   ]
  },
  {
   "cell_type": "code",
   "execution_count": 14,
   "metadata": {},
   "outputs": [],
   "source": [
    "folder_path = \"../images\"\n",
    "restaurants = pickle.load(open('../artifacts/restaurants_list.pkl','rb'))\n",
    "similarity = pickle.load(open('../artifacts/restaurants_similarity.pkl','rb'))\n",
    "cf_model = joblib.load('../models/cf_model.pkl')"
   ]
  },
  {
   "cell_type": "code",
   "execution_count": 19,
   "metadata": {},
   "outputs": [
    {
     "data": {
      "text/html": [
       "<div>\n",
       "<style scoped>\n",
       "    .dataframe tbody tr th:only-of-type {\n",
       "        vertical-align: middle;\n",
       "    }\n",
       "\n",
       "    .dataframe tbody tr th {\n",
       "        vertical-align: top;\n",
       "    }\n",
       "\n",
       "    .dataframe thead th {\n",
       "        text-align: right;\n",
       "    }\n",
       "</style>\n",
       "<table border=\"1\" class=\"dataframe\">\n",
       "  <thead>\n",
       "    <tr style=\"text-align: right;\">\n",
       "      <th></th>\n",
       "      <th>restaurant_id</th>\n",
       "      <th>restaurant_name</th>\n",
       "      <th>cuisine_type</th>\n",
       "      <th>location</th>\n",
       "      <th>price_range</th>\n",
       "      <th>average_rating</th>\n",
       "      <th>num_of_reviews</th>\n",
       "      <th>popular_dishes</th>\n",
       "      <th>operating_hours</th>\n",
       "      <th>ambiance</th>\n",
       "      <th>special_features</th>\n",
       "      <th>tags</th>\n",
       "    </tr>\n",
       "  </thead>\n",
       "  <tbody>\n",
       "    <tr>\n",
       "      <th>0</th>\n",
       "      <td>R000</td>\n",
       "      <td>Mija's Pasta</td>\n",
       "      <td>[Asian]</td>\n",
       "      <td>[Osogbo]</td>\n",
       "      <td>3000-6000</td>\n",
       "      <td>[3.7]</td>\n",
       "      <td>929</td>\n",
       "      <td>[Pasta]</td>\n",
       "      <td>[10AM, 8PM]</td>\n",
       "      <td>[FamilyFriendly]</td>\n",
       "      <td>[WheelchairAccessible]</td>\n",
       "      <td>asian osogbo 9000-12000 3.7 pasta 10am 8pm fam...</td>\n",
       "    </tr>\n",
       "    <tr>\n",
       "      <th>1</th>\n",
       "      <td>R001</td>\n",
       "      <td>FishVillae</td>\n",
       "      <td>[Indian]</td>\n",
       "      <td>[Ede]</td>\n",
       "      <td>9000-12000</td>\n",
       "      <td>[2.4]</td>\n",
       "      <td>335</td>\n",
       "      <td>[Boiled, Yam, with, Egg, Sauce]</td>\n",
       "      <td>[10AM, 9PM]</td>\n",
       "      <td>[Casual]</td>\n",
       "      <td>[KidFriendly, WheelchairAccessible]</td>\n",
       "      <td>indian ede 6000-9000 2.4 boil yam with egg sau...</td>\n",
       "    </tr>\n",
       "    <tr>\n",
       "      <th>2</th>\n",
       "      <td>R002</td>\n",
       "      <td>Jo's Indulge</td>\n",
       "      <td>[Italian]</td>\n",
       "      <td>[Ife]</td>\n",
       "      <td>1000-3000</td>\n",
       "      <td>[4.5]</td>\n",
       "      <td>637</td>\n",
       "      <td>[Chicken, and, Chips]</td>\n",
       "      <td>[10AM, 9PM]</td>\n",
       "      <td>[FamilyFriendly]</td>\n",
       "      <td>[WheelchairAccessible, LiveMusic, KidFriendly]</td>\n",
       "      <td>italian ife 6000-9000 4.5 chicken and chip 10a...</td>\n",
       "    </tr>\n",
       "    <tr>\n",
       "      <th>3</th>\n",
       "      <td>R003</td>\n",
       "      <td>New Image african kitchen</td>\n",
       "      <td>[Indian]</td>\n",
       "      <td>[Ife]</td>\n",
       "      <td>6000-9000</td>\n",
       "      <td>[1.9]</td>\n",
       "      <td>388</td>\n",
       "      <td>[Amala, with, Gbegiri, and, Ewedu, Soup]</td>\n",
       "      <td>[10AM, 9PM]</td>\n",
       "      <td>[FamilyFriendly]</td>\n",
       "      <td>[PetFriendly, WheelchairAccessible, OutdoorSea...</td>\n",
       "      <td>indian ife 6000-9000 1.9 amala with gbegiri an...</td>\n",
       "    </tr>\n",
       "    <tr>\n",
       "      <th>4</th>\n",
       "      <td>R004</td>\n",
       "      <td>Yakoyo Afrikana</td>\n",
       "      <td>[Italian]</td>\n",
       "      <td>[Ife]</td>\n",
       "      <td>3000-6000</td>\n",
       "      <td>[3.5]</td>\n",
       "      <td>405</td>\n",
       "      <td>[Pounded, Yam, and, Egusii]</td>\n",
       "      <td>[9AM, 10PM]</td>\n",
       "      <td>[FamilyFriendly]</td>\n",
       "      <td>[PetFriendly, OutdoorSeating]</td>\n",
       "      <td>italian ife 3000-6000 3.5 pound yam and egusii...</td>\n",
       "    </tr>\n",
       "    <tr>\n",
       "      <th>...</th>\n",
       "      <td>...</td>\n",
       "      <td>...</td>\n",
       "      <td>...</td>\n",
       "      <td>...</td>\n",
       "      <td>...</td>\n",
       "      <td>...</td>\n",
       "      <td>...</td>\n",
       "      <td>...</td>\n",
       "      <td>...</td>\n",
       "      <td>...</td>\n",
       "      <td>...</td>\n",
       "      <td>...</td>\n",
       "    </tr>\n",
       "    <tr>\n",
       "      <th>212</th>\n",
       "      <td>R196</td>\n",
       "      <td>Folaâs Grill</td>\n",
       "      <td>[Italian]</td>\n",
       "      <td>[Ikire]</td>\n",
       "      <td>3000-6000</td>\n",
       "      <td>[4.7]</td>\n",
       "      <td>402</td>\n",
       "      <td>[Suya, (Spicy, Grilled, Meat), with, Onions]</td>\n",
       "      <td>[11AM, 11PM]</td>\n",
       "      <td>[FineDining]</td>\n",
       "      <td>[WheelchairAccessible, PetFriendly]</td>\n",
       "      <td>italian ikir 6000-9000 4.7 suya (spici grill m...</td>\n",
       "    </tr>\n",
       "    <tr>\n",
       "      <th>213</th>\n",
       "      <td>R197</td>\n",
       "      <td>Unity Food Plaza</td>\n",
       "      <td>[Indian]</td>\n",
       "      <td>[Ikire]</td>\n",
       "      <td>9000-12000</td>\n",
       "      <td>[2.3]</td>\n",
       "      <td>990</td>\n",
       "      <td>[Nkwobi, with, Plantain]</td>\n",
       "      <td>[10AM, 10PM]</td>\n",
       "      <td>[FastFood]</td>\n",
       "      <td>[WheelchairAccessible, LiveMusic]</td>\n",
       "      <td>indian ikir 1000-3000 2.3 nkwobi with plantain...</td>\n",
       "    </tr>\n",
       "    <tr>\n",
       "      <th>214</th>\n",
       "      <td>R198</td>\n",
       "      <td>Ekoâs Fast Food</td>\n",
       "      <td>[Indian]</td>\n",
       "      <td>[Ikire]</td>\n",
       "      <td>9000-12000</td>\n",
       "      <td>[3.2]</td>\n",
       "      <td>573</td>\n",
       "      <td>[Shawarma, and, Chicken, Wings]</td>\n",
       "      <td>[9AM, 9PM]</td>\n",
       "      <td>[Romantic]</td>\n",
       "      <td>[PetFriendly]</td>\n",
       "      <td>indian ikir 3000-6000 3.2 shawarma and chicken...</td>\n",
       "    </tr>\n",
       "    <tr>\n",
       "      <th>215</th>\n",
       "      <td>R199</td>\n",
       "      <td>Ivory Bites Restaurants and Bakery</td>\n",
       "      <td>[Asian]</td>\n",
       "      <td>[Ife]</td>\n",
       "      <td>9000-12000</td>\n",
       "      <td>[1.2]</td>\n",
       "      <td>16</td>\n",
       "      <td>[Fried, Rice, and, Chicken]</td>\n",
       "      <td>[9AM, 10PM]</td>\n",
       "      <td>[FineDining]</td>\n",
       "      <td>[PetFriendly, OutdoorSeating]</td>\n",
       "      <td>asian ife 1000-3000 1.2 fri rice and chicken 9...</td>\n",
       "    </tr>\n",
       "    <tr>\n",
       "      <th>216</th>\n",
       "      <td>R200</td>\n",
       "      <td>Abiola Beancake</td>\n",
       "      <td>[American]</td>\n",
       "      <td>[Ife]</td>\n",
       "      <td>1000-3000</td>\n",
       "      <td>[1.6]</td>\n",
       "      <td>420</td>\n",
       "      <td>[Akara, and, Pap]</td>\n",
       "      <td>[9AM, 9PM]</td>\n",
       "      <td>[FamilyFriendly]</td>\n",
       "      <td>[WheelchairAccessible]</td>\n",
       "      <td>american ife 9000-12000 1.6 akara and pap 9am ...</td>\n",
       "    </tr>\n",
       "  </tbody>\n",
       "</table>\n",
       "<p>217 rows × 12 columns</p>\n",
       "</div>"
      ],
      "text/plain": [
       "    restaurant_id                     restaurant_name cuisine_type  location  \\\n",
       "0            R000                        Mija's Pasta      [Asian]  [Osogbo]   \n",
       "1            R001                          FishVillae     [Indian]     [Ede]   \n",
       "2            R002                        Jo's Indulge    [Italian]     [Ife]   \n",
       "3            R003           New Image african kitchen     [Indian]     [Ife]   \n",
       "4            R004                     Yakoyo Afrikana    [Italian]     [Ife]   \n",
       "..            ...                                 ...          ...       ...   \n",
       "212          R196                      Folaâs Grill    [Italian]   [Ikire]   \n",
       "213          R197                    Unity Food Plaza     [Indian]   [Ikire]   \n",
       "214          R198                   Ekoâs Fast Food     [Indian]   [Ikire]   \n",
       "215          R199  Ivory Bites Restaurants and Bakery      [Asian]     [Ife]   \n",
       "216          R200                     Abiola Beancake   [American]     [Ife]   \n",
       "\n",
       "    price_range average_rating  num_of_reviews  \\\n",
       "0     3000-6000          [3.7]             929   \n",
       "1    9000-12000          [2.4]             335   \n",
       "2     1000-3000          [4.5]             637   \n",
       "3     6000-9000          [1.9]             388   \n",
       "4     3000-6000          [3.5]             405   \n",
       "..          ...            ...             ...   \n",
       "212   3000-6000          [4.7]             402   \n",
       "213  9000-12000          [2.3]             990   \n",
       "214  9000-12000          [3.2]             573   \n",
       "215  9000-12000          [1.2]              16   \n",
       "216   1000-3000          [1.6]             420   \n",
       "\n",
       "                                   popular_dishes operating_hours  \\\n",
       "0                                         [Pasta]     [10AM, 8PM]   \n",
       "1                 [Boiled, Yam, with, Egg, Sauce]     [10AM, 9PM]   \n",
       "2                           [Chicken, and, Chips]     [10AM, 9PM]   \n",
       "3        [Amala, with, Gbegiri, and, Ewedu, Soup]     [10AM, 9PM]   \n",
       "4                     [Pounded, Yam, and, Egusii]     [9AM, 10PM]   \n",
       "..                                            ...             ...   \n",
       "212  [Suya, (Spicy, Grilled, Meat), with, Onions]    [11AM, 11PM]   \n",
       "213                      [Nkwobi, with, Plantain]    [10AM, 10PM]   \n",
       "214               [Shawarma, and, Chicken, Wings]      [9AM, 9PM]   \n",
       "215                   [Fried, Rice, and, Chicken]     [9AM, 10PM]   \n",
       "216                             [Akara, and, Pap]      [9AM, 9PM]   \n",
       "\n",
       "             ambiance                                   special_features  \\\n",
       "0    [FamilyFriendly]                             [WheelchairAccessible]   \n",
       "1            [Casual]                [KidFriendly, WheelchairAccessible]   \n",
       "2    [FamilyFriendly]     [WheelchairAccessible, LiveMusic, KidFriendly]   \n",
       "3    [FamilyFriendly]  [PetFriendly, WheelchairAccessible, OutdoorSea...   \n",
       "4    [FamilyFriendly]                      [PetFriendly, OutdoorSeating]   \n",
       "..                ...                                                ...   \n",
       "212      [FineDining]                [WheelchairAccessible, PetFriendly]   \n",
       "213        [FastFood]                  [WheelchairAccessible, LiveMusic]   \n",
       "214        [Romantic]                                      [PetFriendly]   \n",
       "215      [FineDining]                      [PetFriendly, OutdoorSeating]   \n",
       "216  [FamilyFriendly]                             [WheelchairAccessible]   \n",
       "\n",
       "                                                  tags  \n",
       "0    asian osogbo 9000-12000 3.7 pasta 10am 8pm fam...  \n",
       "1    indian ede 6000-9000 2.4 boil yam with egg sau...  \n",
       "2    italian ife 6000-9000 4.5 chicken and chip 10a...  \n",
       "3    indian ife 6000-9000 1.9 amala with gbegiri an...  \n",
       "4    italian ife 3000-6000 3.5 pound yam and egusii...  \n",
       "..                                                 ...  \n",
       "212  italian ikir 6000-9000 4.7 suya (spici grill m...  \n",
       "213  indian ikir 1000-3000 2.3 nkwobi with plantain...  \n",
       "214  indian ikir 3000-6000 3.2 shawarma and chicken...  \n",
       "215  asian ife 1000-3000 1.2 fri rice and chicken 9...  \n",
       "216  american ife 9000-12000 1.6 akara and pap 9am ...  \n",
       "\n",
       "[217 rows x 12 columns]"
      ]
     },
     "execution_count": 19,
     "metadata": {},
     "output_type": "execute_result"
    }
   ],
   "source": [
    "restaurants"
   ]
  },
  {
   "cell_type": "code",
   "execution_count": 20,
   "metadata": {},
   "outputs": [],
   "source": [
    "# prompt: i want the price-range the Price_Range columns should only have four categories 1000 - 3000, 3000-6000, 6000-9000, 9000-12000 and this should be distributed  randomly\n",
    "\n",
    "import random\n",
    "\n",
    "# Define the price range categories\n",
    "price_ranges = ['1000-3000', '3000-6000', '6000-9000', '9000-12000']\n",
    "\n",
    "# Randomly assign price ranges to restaurants\n",
    "restaurants['price_range'] = [random.choice(price_ranges) for _ in range(len(restaurants))]\n"
   ]
  },
  {
   "cell_type": "code",
   "execution_count": 22,
   "metadata": {},
   "outputs": [
    {
     "data": {
      "text/html": [
       "<div>\n",
       "<style scoped>\n",
       "    .dataframe tbody tr th:only-of-type {\n",
       "        vertical-align: middle;\n",
       "    }\n",
       "\n",
       "    .dataframe tbody tr th {\n",
       "        vertical-align: top;\n",
       "    }\n",
       "\n",
       "    .dataframe thead th {\n",
       "        text-align: right;\n",
       "    }\n",
       "</style>\n",
       "<table border=\"1\" class=\"dataframe\">\n",
       "  <thead>\n",
       "    <tr style=\"text-align: right;\">\n",
       "      <th></th>\n",
       "      <th>restaurant_id</th>\n",
       "      <th>restaurant_name</th>\n",
       "      <th>cuisine_type</th>\n",
       "      <th>location</th>\n",
       "      <th>price_range</th>\n",
       "      <th>average_rating</th>\n",
       "      <th>num_of_reviews</th>\n",
       "      <th>popular_dishes</th>\n",
       "      <th>operating_hours</th>\n",
       "      <th>ambiance</th>\n",
       "      <th>special_features</th>\n",
       "      <th>tags</th>\n",
       "    </tr>\n",
       "  </thead>\n",
       "  <tbody>\n",
       "    <tr>\n",
       "      <th>0</th>\n",
       "      <td>R000</td>\n",
       "      <td>Mija's Pasta</td>\n",
       "      <td>[Asian]</td>\n",
       "      <td>[Osogbo]</td>\n",
       "      <td>9000-12000</td>\n",
       "      <td>[3.7]</td>\n",
       "      <td>929</td>\n",
       "      <td>[Pasta]</td>\n",
       "      <td>[10AM, 8PM]</td>\n",
       "      <td>[FamilyFriendly]</td>\n",
       "      <td>[WheelchairAccessible]</td>\n",
       "      <td>asian osogbo 9000-12000 3.7 pasta 10am 8pm fam...</td>\n",
       "    </tr>\n",
       "    <tr>\n",
       "      <th>1</th>\n",
       "      <td>R001</td>\n",
       "      <td>FishVillae</td>\n",
       "      <td>[Indian]</td>\n",
       "      <td>[Ede]</td>\n",
       "      <td>9000-12000</td>\n",
       "      <td>[2.4]</td>\n",
       "      <td>335</td>\n",
       "      <td>[Boiled, Yam, with, Egg, Sauce]</td>\n",
       "      <td>[10AM, 9PM]</td>\n",
       "      <td>[Casual]</td>\n",
       "      <td>[KidFriendly, WheelchairAccessible]</td>\n",
       "      <td>indian ede 6000-9000 2.4 boil yam with egg sau...</td>\n",
       "    </tr>\n",
       "    <tr>\n",
       "      <th>2</th>\n",
       "      <td>R002</td>\n",
       "      <td>Jo's Indulge</td>\n",
       "      <td>[Italian]</td>\n",
       "      <td>[Ife]</td>\n",
       "      <td>6000-9000</td>\n",
       "      <td>[4.5]</td>\n",
       "      <td>637</td>\n",
       "      <td>[Chicken, and, Chips]</td>\n",
       "      <td>[10AM, 9PM]</td>\n",
       "      <td>[FamilyFriendly]</td>\n",
       "      <td>[WheelchairAccessible, LiveMusic, KidFriendly]</td>\n",
       "      <td>italian ife 6000-9000 4.5 chicken and chip 10a...</td>\n",
       "    </tr>\n",
       "    <tr>\n",
       "      <th>3</th>\n",
       "      <td>R003</td>\n",
       "      <td>New Image african kitchen</td>\n",
       "      <td>[Indian]</td>\n",
       "      <td>[Ife]</td>\n",
       "      <td>9000-12000</td>\n",
       "      <td>[1.9]</td>\n",
       "      <td>388</td>\n",
       "      <td>[Amala, with, Gbegiri, and, Ewedu, Soup]</td>\n",
       "      <td>[10AM, 9PM]</td>\n",
       "      <td>[FamilyFriendly]</td>\n",
       "      <td>[PetFriendly, WheelchairAccessible, OutdoorSea...</td>\n",
       "      <td>indian ife 6000-9000 1.9 amala with gbegiri an...</td>\n",
       "    </tr>\n",
       "    <tr>\n",
       "      <th>4</th>\n",
       "      <td>R004</td>\n",
       "      <td>Yakoyo Afrikana</td>\n",
       "      <td>[Italian]</td>\n",
       "      <td>[Ife]</td>\n",
       "      <td>6000-9000</td>\n",
       "      <td>[3.5]</td>\n",
       "      <td>405</td>\n",
       "      <td>[Pounded, Yam, and, Egusii]</td>\n",
       "      <td>[9AM, 10PM]</td>\n",
       "      <td>[FamilyFriendly]</td>\n",
       "      <td>[PetFriendly, OutdoorSeating]</td>\n",
       "      <td>italian ife 3000-6000 3.5 pound yam and egusii...</td>\n",
       "    </tr>\n",
       "  </tbody>\n",
       "</table>\n",
       "</div>"
      ],
      "text/plain": [
       "  restaurant_id            restaurant_name cuisine_type  location price_range  \\\n",
       "0          R000               Mija's Pasta      [Asian]  [Osogbo]  9000-12000   \n",
       "1          R001                 FishVillae     [Indian]     [Ede]  9000-12000   \n",
       "2          R002               Jo's Indulge    [Italian]     [Ife]   6000-9000   \n",
       "3          R003  New Image african kitchen     [Indian]     [Ife]  9000-12000   \n",
       "4          R004            Yakoyo Afrikana    [Italian]     [Ife]   6000-9000   \n",
       "\n",
       "  average_rating  num_of_reviews                            popular_dishes  \\\n",
       "0          [3.7]             929                                   [Pasta]   \n",
       "1          [2.4]             335           [Boiled, Yam, with, Egg, Sauce]   \n",
       "2          [4.5]             637                     [Chicken, and, Chips]   \n",
       "3          [1.9]             388  [Amala, with, Gbegiri, and, Ewedu, Soup]   \n",
       "4          [3.5]             405               [Pounded, Yam, and, Egusii]   \n",
       "\n",
       "  operating_hours          ambiance  \\\n",
       "0     [10AM, 8PM]  [FamilyFriendly]   \n",
       "1     [10AM, 9PM]          [Casual]   \n",
       "2     [10AM, 9PM]  [FamilyFriendly]   \n",
       "3     [10AM, 9PM]  [FamilyFriendly]   \n",
       "4     [9AM, 10PM]  [FamilyFriendly]   \n",
       "\n",
       "                                    special_features  \\\n",
       "0                             [WheelchairAccessible]   \n",
       "1                [KidFriendly, WheelchairAccessible]   \n",
       "2     [WheelchairAccessible, LiveMusic, KidFriendly]   \n",
       "3  [PetFriendly, WheelchairAccessible, OutdoorSea...   \n",
       "4                      [PetFriendly, OutdoorSeating]   \n",
       "\n",
       "                                                tags  \n",
       "0  asian osogbo 9000-12000 3.7 pasta 10am 8pm fam...  \n",
       "1  indian ede 6000-9000 2.4 boil yam with egg sau...  \n",
       "2  italian ife 6000-9000 4.5 chicken and chip 10a...  \n",
       "3  indian ife 6000-9000 1.9 amala with gbegiri an...  \n",
       "4  italian ife 3000-6000 3.5 pound yam and egusii...  "
      ]
     },
     "execution_count": 22,
     "metadata": {},
     "output_type": "execute_result"
    }
   ],
   "source": [
    "restaurants.head()"
   ]
  },
  {
   "cell_type": "code",
   "execution_count": 28,
   "metadata": {},
   "outputs": [],
   "source": [
    "import random\n",
    "\n",
    "# Define the price range categories\n",
    "location = ['Ife', 'Osogbo', 'ILesha']\n",
    "\n",
    "# Randomly assign price ranges to restaurants\n",
    "restaurants['location'] = [random.choice(location) for _ in range(len(restaurants))]"
   ]
  },
  {
   "cell_type": "code",
   "execution_count": 7,
   "metadata": {},
   "outputs": [],
   "source": [
    "import random\n",
    "\n",
    "# Define the price range categories\n",
    "price_ranges = ['1000-3000', '3000-6000', '6000-9000']\n",
    "\n",
    "# Randomly assign price ranges to restaurants\n",
    "restaurants['price_range'] = [random.choice(price_ranges) for _ in range(len(restaurants))]"
   ]
  },
  {
   "cell_type": "code",
   "execution_count": 29,
   "metadata": {},
   "outputs": [
    {
     "data": {
      "text/plain": [
       "array(['Osogbo', 'Ife', 'ILesha'], dtype=object)"
      ]
     },
     "execution_count": 29,
     "metadata": {},
     "output_type": "execute_result"
    }
   ],
   "source": [
    "restaurants[\"location\"].unique()"
   ]
  },
  {
   "cell_type": "code",
   "execution_count": 24,
   "metadata": {},
   "outputs": [],
   "source": [
    "# Extract the first item from each list in the columns\n",
    "restaurants['cuisine_type'] = restaurants['cuisine_type'].apply(lambda x: x[0] if isinstance(x, list) and len(x) > 0 else x)\n",
    "restaurants['location'] = restaurants['location'].apply(lambda x: x[0] if isinstance(x, list) and len(x) > 0 else x)\n",
    "restaurants['price_range'] = restaurants['price_range'].apply(lambda x: x if not isinstance(x, list) else [x[0], x[1]] if len(x) == 2 else x)\n"
   ]
  },
  {
   "cell_type": "code",
   "execution_count": 25,
   "metadata": {},
   "outputs": [],
   "source": [
    "restaurants['price_range'] = restaurants['price_range'].apply(\n",
    "    lambda x: f\"{x[0]}-{x[1]}\" if isinstance(x, list) and len(x) == 2 else x\n",
    ")\n"
   ]
  },
  {
   "cell_type": "code",
   "execution_count": 30,
   "metadata": {},
   "outputs": [],
   "source": [
    "restaurants.to_pickle('../artifacts/restaurants_list.pkl')"
   ]
  },
  {
   "cell_type": "code",
   "execution_count": null,
   "metadata": {},
   "outputs": [],
   "source": [
    "# C:\\Users\\philip\\Desktop\\app\\restaurants-recommender-system\\artifacts"
   ]
  },
  {
   "cell_type": "code",
   "execution_count": 18,
   "metadata": {},
   "outputs": [],
   "source": [
    "USER_IDS = [f'U{str(i).zfill(3)}' for i in range(100)]\n",
    "user_id = random.choice(USER_IDS)\n",
    "\n",
    "\n",
    "folder_path = \"../images\"\n",
    "restaurants = pickle.load(open('../artifacts/restaurants_list.pkl','rb'))\n",
    "similarity = pickle.load(open('../artifacts/restaurants_similarity.pkl','rb'))\n",
    "cf_model = joblib.load('../models/cf_model.pkl')\n",
    "\n",
    "\n",
    "# Extract the first item from each list in the columns\n",
    "restaurants['cuisine_type'] = restaurants['cuisine_type'].apply(lambda x: x[0] if isinstance(x, list) and len(x) > 0 else x)\n",
    "restaurants['location'] = restaurants['location'].apply(lambda x: x[0] if isinstance(x, list) and len(x) > 0 else x)\n",
    "restaurants['price_range'] = restaurants['price_range'].apply(lambda x: x if not isinstance(x, list) else [x[0], x[1]] if len(x) == 2 else x)\n",
    "\n",
    "restaurants['price_range'] = restaurants['price_range'].apply(\n",
    "    lambda x: f\"{x[0]}-{x[1]}\" if isinstance(x, list) and len(x) == 2 else x\n",
    ")\n",
    "\n",
    "\n",
    "# Function to load images from a folder\n",
    "def load_images_from_folder(image_name: str, folder_path: str = folder_path):\n",
    "    img_path = os.path.join(folder_path, image_name)\n",
    "    image = Image.open(img_path)\n",
    "    return image\n",
    "\n",
    "\n",
    "def fetch_restaurant_poster(restaurant_id):\n",
    "    restaurant_poster = load_images_from_folder(f\"{restaurant_id}.png\")\n",
    "    return restaurant_poster\n"
   ]
  },
  {
   "cell_type": "code",
   "execution_count": 19,
   "metadata": {},
   "outputs": [],
   "source": [
    "def get_top_n(predictions, n=6):\n",
    "    top_n = defaultdict(list)\n",
    "    for uid, iid, est in predictions:\n",
    "        top_n[uid].append([iid, est])\n",
    "\n",
    "    # Sort the predictions for each user and retrieve the highest `n` ones.\n",
    "    for uid, user_ratings in top_n.items():\n",
    "        user_ratings.sort(key=lambda x: x[1], reverse=True)\n",
    "        top_n[uid] = user_ratings[:n]\n",
    "\n",
    "    return top_n"
   ]
  },
  {
   "cell_type": "code",
   "execution_count": 29,
   "metadata": {},
   "outputs": [],
   "source": [
    "C:\\Users\\philip\\Desktop\\app\\restaurants-recommender-system\\artifacts"
   ]
  },
  {
   "cell_type": "code",
   "execution_count": 31,
   "metadata": {},
   "outputs": [
    {
     "data": {
      "text/plain": [
       "defaultdict(list, {'U035': []})"
      ]
     },
     "execution_count": 31,
     "metadata": {},
     "output_type": "execute_result"
    }
   ],
   "source": [
    "filtered_recommendations\n"
   ]
  },
  {
   "cell_type": "code",
   "execution_count": 33,
   "metadata": {},
   "outputs": [
    {
     "name": "stdout",
     "output_type": "stream",
     "text": [
      "defaultdict(<class 'list'>, {'U035': []})\n"
     ]
    }
   ],
   "source": [
    "filtered_recommendations = run_collabotive_filtering(\n",
    "    user_id=user_id, \n",
    "    restaurant_ids=['R001', 'R002', 'R003'], \n",
    "    cuisine_type=\"Italian\", \n",
    "    location=\"Downtown\", \n",
    "    price_range=\"28000-47000\"\n",
    ")\n",
    "\n",
    "print(filtered_recommendations)\n"
   ]
  },
  {
   "cell_type": "code",
   "execution_count": 28,
   "metadata": {},
   "outputs": [
    {
     "data": {
      "text/plain": [
       "defaultdict(list, {'U035': []})"
      ]
     },
     "execution_count": 28,
     "metadata": {},
     "output_type": "execute_result"
    }
   ],
   "source": [
    "filtered_recommendations\n"
   ]
  },
  {
   "cell_type": "code",
   "execution_count": 33,
   "metadata": {},
   "outputs": [],
   "source": [
    "import os\n",
    "import shutil\n",
    "\n",
    "def duplicate_and_rename_images(source_dir, target_dir, start_index=0, end_index=200):\n",
    "    # Ensure the target directory exists\n",
    "    if not os.path.exists(target_dir):\n",
    "        os.makedirs(target_dir)\n",
    "    \n",
    "    # Get a list of all image files in the source directory\n",
    "    images = [f for f in os.listdir(source_dir) if os.path.isfile(os.path.join(source_dir, f))]\n",
    "    \n",
    "    # Iterate over the range and duplicate & rename images\n",
    "    for i in range(start_index, end_index + 1):\n",
    "        if i < len(images):  # Check if there are enough images to duplicate\n",
    "            source_image = os.path.join(source_dir, images[i])\n",
    "            target_image = os.path.join(target_dir, f\"R{i:03d}{os.path.splitext(images[i])[1]}\")  # R000, R001, etc.\n",
    "            shutil.copy(source_image, target_image)\n",
    "        else:\n",
    "            break\n",
    "\n",
    "# Usage\n",
    "source_directory = \"../images\"\n",
    "target_directory = \"../newimages\"\n",
    "duplicate_and_rename_images(source_directory, target_directory)\n"
   ]
  },
  {
   "cell_type": "code",
   "execution_count": null,
   "metadata": {},
   "outputs": [],
   "source": []
  }
 ],
 "metadata": {
  "kernelspec": {
   "display_name": "babenv",
   "language": "python",
   "name": "python3"
  },
  "language_info": {
   "codemirror_mode": {
    "name": "ipython",
    "version": 3
   },
   "file_extension": ".py",
   "mimetype": "text/x-python",
   "name": "python",
   "nbconvert_exporter": "python",
   "pygments_lexer": "ipython3",
   "version": "3.10.14"
  }
 },
 "nbformat": 4,
 "nbformat_minor": 2
}
